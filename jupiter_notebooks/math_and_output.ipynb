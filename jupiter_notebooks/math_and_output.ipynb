{
 "cells": [
  {
   "cell_type": "markdown",
   "metadata": {
    "id": "qY8rj-B_TJ2o"
   },
   "source": [
    "<center><img src=\"https://docs.google.com/drawings/d/e/2PACX-1vT4S4QVOsu1GtRuJmYftcySJMZGo_4woIB8S2p52sttdzdnRL3AEb-Z7A7dyBzLDQL1n9DYeqvmoV6r/pub?w=816&amp;h=144\"></center>\n",
    "\n",
    "# Math && Output"
   ]
  },
  {
   "cell_type": "markdown",
   "metadata": {
    "id": "UbfQELmQTJ2q"
   },
   "source": [
    "## MATH\n",
    "\n",
    "For the most part, math in Python is pretty similar to the math we humans grew up with. There are some notable exceptions that we'll check out, but the core math is the same:\n",
    "\n",
    "### The \"`+`\" operator\n",
    "\n",
    "This means *add* - just like we expected. So we can add numbers:"
   ]
  },
  {
   "cell_type": "code",
   "execution_count": null,
   "metadata": {
    "id": "fRnfsbspTJ2r"
   },
   "outputs": [],
   "source": [
    "num_one = 3\n",
    "num_two = 4\n",
    "total = num_one + num_two\n",
    "print(total)"
   ]
  },
  {
   "cell_type": "markdown",
   "metadata": {
    "id": "jhqQSQuTTJ2s"
   },
   "source": [
    "#### *Concatenating* strings\n",
    "\n",
    "We can also use the `+` sign with strings! It sounds wonky, but it makes sense. When you use the `+` sign with strings, we aren't actually adding up their value. Instead, we are *concatenating* them. That just means we are gluing them together:"
   ]
  },
  {
   "cell_type": "code",
   "execution_count": 1,
   "metadata": {
    "id": "iJjerfflTJ2t"
   },
   "outputs": [
    {
     "name": "stdout",
     "output_type": "stream",
     "text": [
      "PinkFloyd\n",
      "Pink Floyd\n"
     ]
    }
   ],
   "source": [
    "first_name = 'Pink'\n",
    "last_name = 'Floyd'\n",
    "full_name = first_name + last_name\n",
    "\n",
    "print(full_name) # This will literally print out 'PinkFloyd' - no space!\n",
    "\n",
    "full_name = first_name + ' ' + last_name\n",
    "\n",
    "print(full_name)"
   ]
  },
  {
   "cell_type": "markdown",
   "metadata": {
    "id": "K0TR0d6oTJ2u"
   },
   "source": [
    "Concatenating strings is pretty straightforward... until you get to outputting them in a `print()` call. We'll look at that a bit later.\n",
    "\n",
    "#### *Incrementing* values\n",
    "\n",
    "Check out the two examples below. In the first case, there is the left-hand side (LHS) of the operator and the right-hand side (RHS). Contrary to our gut reaction, the RHS is computed first and the value is then assigned to the LHS. So `age` is assigned a value of 45. After displaying it, we then assign it a value of the current value plus 1.\n",
    "\n",
    "It's also possible to increment a value by using the `+=` operator as in the second example. Note that we can use `+=` with any value; it does not need to be `1`:"
   ]
  },
  {
   "cell_type": "code",
   "execution_count": 2,
   "metadata": {
    "id": "y0xsJu7WTJ2u"
   },
   "outputs": [
    {
     "name": "stdout",
     "output_type": "stream",
     "text": [
      "45\n",
      "46\n",
      "\n",
      "----------\n",
      "\n",
      "45\n",
      "46\n"
     ]
    }
   ],
   "source": [
    "age = 45\n",
    "print(age)\n",
    "age = age + 1\n",
    "print(age)\n",
    "\n",
    "print('\\n----------\\n')\n",
    "\n",
    "age = 45\n",
    "print(age)\n",
    "age += 1\n",
    "print(age)"
   ]
  },
  {
   "cell_type": "markdown",
   "metadata": {
    "id": "YrGiJc37TJ2u"
   },
   "source": [
    "### The \"`-`\" operator\n",
    "\n",
    "This is exactly like what you would expect; it subtracts numbers:"
   ]
  },
  {
   "cell_type": "code",
   "execution_count": null,
   "metadata": {
    "id": "gr4rnXQhTJ2v"
   },
   "outputs": [],
   "source": [
    "max_login_attempts = 10\n",
    "current_login_attempts = 4\n",
    "\n",
    "number_of_remaining_login_attempts = max_login_attempts - current_login_attempts\n",
    "\n",
    "print('You have')\n",
    "print(number_of_remaining_login_attempts)\n",
    "print('attempts left')"
   ]
  },
  {
   "cell_type": "markdown",
   "metadata": {
    "id": "bOxxDuJ9TJ2v"
   },
   "source": [
    "#### \"`-`\" <s>and strings</s>\n",
    "\n",
    "Unlike the `+` sign, you can't really use the `-` sign with strings:"
   ]
  },
  {
   "cell_type": "code",
   "execution_count": null,
   "metadata": {
    "id": "QIgbXn9OTJ2v"
   },
   "outputs": [],
   "source": [
    "first_name = 'Pink'\n",
    "last_name = 'Floyd'\n",
    "\n",
    "# This code will throw an error!\n",
    "print(first_name - last_name)"
   ]
  },
  {
   "cell_type": "markdown",
   "metadata": {
    "id": "Ntjryc3eTJ2w"
   },
   "source": [
    "#### *Decrementing* values\n",
    "\n",
    "Much like you can use the `+=` operator to augment a value, you can use the `-=` to decrease the value of a number. Here are some examples:"
   ]
  },
  {
   "cell_type": "code",
   "execution_count": null,
   "metadata": {
    "id": "FW8QfkxmTJ2w"
   },
   "outputs": [],
   "source": [
    "number_of_attempts = 3    # The current value of number_of_attempts is 3\n",
    "number_of_attempts -= 1   # Now we reduce the current value by 1, so number_of_attempts is 2\n",
    "print(number_of_attempts)\n",
    "\n",
    "print('\\n----------\\n')\n",
    "\n",
    "capacity_of_holding_tank = 1250\n",
    "print(capacity_of_holding_tank)\n",
    "\n",
    "average_daily_load = 100\n",
    "capacity_of_holding_tank -= average_daily_load\n",
    "\n",
    "print(capacity_of_holding_tank)"
   ]
  },
  {
   "cell_type": "markdown",
   "metadata": {
    "id": "pcaVuHlxTJ2w"
   },
   "source": [
    "### The `*` operator\n",
    "\n",
    "Also as you would expect, the asterisk does a great job with multiplication:\n",
    "\n",
    "`print('hi ') * 5`\n"
   ]
  },
  {
   "cell_type": "code",
   "execution_count": null,
   "metadata": {
    "id": "6InX0cfQTJ2w"
   },
   "outputs": [],
   "source": [
    "num_of_eggs_in_omelette = 3\n",
    "num_of_omelettes = 5\n",
    "\n",
    "total_eggs = num_of_eggs_in_omelette * num_of_omelettes\n",
    "\n",
    "print('You will need')\n",
    "print(total_eggs)\n",
    "print('eggs to make all the omelettes')\n",
    "# `omelette` is such a weird word\n"
   ]
  },
  {
   "cell_type": "markdown",
   "metadata": {
    "id": "MGivfUJaTJ2w"
   },
   "source": [
    "But wait folks! That's not all! You can also use the \"`*`\" if you want to square a number (or cube it, or use any exponent, really)! You just use it twice! Note that in math we usually use the \"`^`\" symbol, but in Python (and most other languages) it does something different. It's called a *bitwise operator* and we don't deal with it in this class.\n",
    "\n",
    "So let's see how to *exponentiate* with the \"`*`\" operator:"
   ]
  },
  {
   "cell_type": "code",
   "execution_count": null,
   "metadata": {
    "id": "OK_9sEe5TJ2w"
   },
   "outputs": [],
   "source": [
    "num_one = 5\n",
    "print(num_one ** 2)\n",
    "print(num_one ** 3)"
   ]
  },
  {
   "cell_type": "markdown",
   "metadata": {
    "id": "xaHsBuVHTJ2x"
   },
   "source": [
    "#### Finding roots with exponents\n",
    "\n",
    "Little known fact - you can find the square root of a number by using the exponent <sup>1</sup>/<sub>2</sub>. You can also find, say, the cube root of a number by using the exponent <sup>1</sup>/<sub>3</sub>. And the fourth root by using the exponent <sup>1</sup>/<sub>4</sub>.\n",
    "\n",
    "> <br />NOTE: There are baked-in function to find the square root or cube root of numbers, but the method below works just as well and is a bit more versatile as there is no limit to the root (fourth root, fifth root, etc.) that you can compute<br /><br />"
   ]
  },
  {
   "cell_type": "code",
   "execution_count": null,
   "metadata": {
    "id": "dvCWhU8fTJ2x"
   },
   "outputs": [],
   "source": [
    "num_two = 16 # The square root of 16 is 4 because 4 * 4 = 16\n",
    "print(num_two ** 0.5)\n",
    "\n",
    "print('\\n----------\\n')\n",
    "\n",
    "num_three = 8 # The cube root of 8 is 2 because 2 * 2 * 2 = 8\n",
    "print(num_three ** (1/3))\n",
    "\n",
    "print('\\n----------\\n')\n",
    "\n",
    "num_four = 81 # The fourth root of 81 is 3 since 3 * 3 * 3 * 3 = 81\n",
    "print(num_four ** 0.25)\n",
    "print(num_four ** (1/4))\n",
    "\n",
    "print('\\n----------\\n')\n",
    "\n",
    "num_five = 32\n",
    "# write code to find the fifth root of 32"
   ]
  },
  {
   "cell_type": "markdown",
   "metadata": {
    "id": "yaj_0oDmTJ2x"
   },
   "source": [
    "<hr />\n",
    "<details>\n",
    "  <summary>Click to see solution</summary>\n",
    "  <br />\n",
    "  <code>print(num_five ** (1/5))</code><br />\n",
    "  <br />\n",
    "  Note that you need to use parentheses around the 1/5<br />\n",
    "  <br />\n",
    "  <code>print(num_five ** 0.2)</code> will also work!<br />\n",
    "\n",
    "</details>\n",
    "<hr />"
   ]
  },
  {
   "cell_type": "markdown",
   "metadata": {
    "id": "BDq_IZvoTJ2x"
   },
   "source": [
    "Note that we can use both decimals and fractions as exponents if we want. But you **need** to have parentheses around the fraction! You see, Python uses the order of operations just like good ole' math class (remember PEMDAS?). So that means that the expression `num_five ** 1/5` wil actually raise `num_five` to the power of `1` and then divide that answer by `5`. But if you put parentheses around the `1/5` then Python will compute that value first (in this case, `0.2` and then use that as the power of the base `32`)."
   ]
  },
  {
   "cell_type": "markdown",
   "metadata": {
    "id": "d1guMyzxTJ2x"
   },
   "source": [
    "#### \"`*`\" and strings\n",
    "\n",
    "But wait! There is **even more**! Python allows you to use the \"`*`\" operator with strings, too!\n",
    "\n",
    "<center><img style=\"border-radius:15px !important; height:350px;\" src=\"https://docs.google.com/drawings/d/e/2PACX-1vSdFA9pqJqDIanEZoDJOTsVFzxxMMG4j3km_dGlVRAmDEbAcqt6MUc4lCPhRHJ8ZBjlJZVrT14T_xcH/pub?w=453&amp;h=679\" alt=\"The ER MEH GERD meme. The punchline is PYTHONS.\" title=\"The ER MEH GERD meme. The punchline is PYTHONS.\"></center>\n",
    "\n",
    "<br />\n",
    "\n",
    "Remember the lab where we printed out a rectangle?\n",
    "\n",
    "```\n",
    "*****\n",
    "*   *\n",
    "*   *\n",
    "*****\n",
    "```\n",
    "\n",
    "Turns out that for the top and bottome of the rectangle, we wasted time, effort, blood, sweat, and tears by printing out five asterisks. Instead, we could have used the \"`*`\" operator and only **one** asterisk!"
   ]
  },
  {
   "cell_type": "code",
   "execution_count": null,
   "metadata": {
    "id": "56Ym7rRfTJ2y"
   },
   "outputs": [],
   "source": [
    "print('*' * 5)"
   ]
  },
  {
   "cell_type": "markdown",
   "metadata": {
    "id": "sjk63KYXTJ2y"
   },
   "source": [
    "<hr />\n",
    "<details>\n",
    "  <summary>BONUS - printing out a rectangle in one line of code!</summary>\n",
    "  <br />\n",
    "  If you think about the escape character `\\n`, which inserts a line of code into your output, you could leverage it to do something like this:<br />\n",
    "  <br />\n",
    "  <code>print('*' * 5, ('\\n*' + ' ' * 3 + '*') * 2, '\\n' + '*' * 5)</code><br />\n",
    "  <br />\n",
    "  Of course, this is just ridiculous and hard to read, which is why it is much better to do something like this:<br />\n",
    "  <br />\n",
    "  <code>print('*' * 5)</code><br />\n",
    "  <code>print('*&nbsp;&nbsp;&nbsp;*')</code><br />\n",
    "  <code>print('*&nbsp;&nbsp;&nbsp;*')</code><br />\n",
    "  <code>print('*' * 5)</code><br />\n",
    "  <br />\n",
    "  or...<br />\n",
    "  <br />\n",
    "  <code>print('*****')</code><br />\n",
    "  <code>print('*&nbsp;&nbsp;&nbsp;*')</code><br />\n",
    "  <code>print('*&nbsp;&nbsp;&nbsp;*')</code><br />\n",
    "  <code>print('*****')</code><br />\n",
    "  <br />\n",
    "</details>\n",
    "<hr />"
   ]
  },
  {
   "cell_type": "markdown",
   "metadata": {
    "id": "-5-hoQ76TJ2y"
   },
   "source": [
    "There isn't really a lot of use cases for this, but one example might be when making histograms or other graphs. Check out this example below that tracks network intrusion attempts and displays a histogram. Realistically, in a security environment we would be automating that data collection, but for today let's just manually do it - we're just interested in the output:"
   ]
  },
  {
   "cell_type": "code",
   "execution_count": null,
   "metadata": {
    "id": "LebCV4_ZTJ2y"
   },
   "outputs": [],
   "source": [
    "network_attacks_monday = 5\n",
    "network_attacks_tuesday = 8\n",
    "network_attacks_wednesday = 45\n",
    "network_attacks_thursday = 16\n",
    "network_attacks_friday = 22\n",
    "\n",
    "print(\"NETWORK ATTACKS BY DAY\")\n",
    "print(\"----------------------\")\n",
    "print(\"Monday    |\", 'X' * network_attacks_monday)\n",
    "print(\"Tuesday   |\", 'X' * network_attacks_tuesday)\n",
    "print(\"Wednesday |\", 'X' * network_attacks_wednesday)\n",
    "print(\"Thursday  |\", 'X' * network_attacks_thursday)\n",
    "print(\"Friday    |\", 'X' * network_attacks_friday)\n"
   ]
  },
  {
   "cell_type": "markdown",
   "metadata": {
    "id": "1HGAuMO6TJ2y"
   },
   "source": [
    "\n",
    "### The \"`/`\" operator\n",
    "\n",
    "Also as expected, the `/` sign will divide values:"
   ]
  },
  {
   "cell_type": "code",
   "execution_count": 3,
   "metadata": {
    "id": "QKxqOQC1TJ2z"
   },
   "outputs": [
    {
     "name": "stdout",
     "output_type": "stream",
     "text": [
      "2.5\n",
      "\n",
      "----------\n",
      "\n",
      "2.5\n"
     ]
    }
   ],
   "source": [
    "print(10 / 4)\n",
    "\n",
    "print('\\n----------\\n')\n",
    "\n",
    "numerator = 10\n",
    "denominator = 4\n",
    "\n",
    "print(numerator / denominator)"
   ]
  },
  {
   "cell_type": "markdown",
   "metadata": {
    "id": "17gn4H8eTJ2z"
   },
   "source": [
    "Note that even if the *quotient* (that just means answer from a division problem - shake off the math dust from your brain!) is a whole number, Python will still display it as a decimal:"
   ]
  },
  {
   "cell_type": "code",
   "execution_count": 4,
   "metadata": {
    "id": "GfhIlr0MTJ2z"
   },
   "outputs": [
    {
     "name": "stdout",
     "output_type": "stream",
     "text": [
      "5.0\n"
     ]
    }
   ],
   "source": [
    "print(10 / 2)"
   ]
  },
  {
   "cell_type": "markdown",
   "metadata": {
    "id": "hAOyNNzqTJ2z"
   },
   "source": [
    "\n",
    "#### *Floor* division\n",
    "\n",
    "Sometimes in programming you don't care about the decimal part of a division problem; you just want the whole number part (once upon a time we referred to the whole number part as the *characteristic* and the decimal part as the *mantissa*). In math, we call this the *floor* - you may have studied *step function* graphs which are also similar. Note that in floor division, there is no rounding up - you **always** round down. Here's a few examples:\n",
    "\n",
    "* You are dealing with big numbers (like miles) and you don't really care if something is 520 miles away or 520.6 miles away - 520 is sufficient\n",
    "\n",
    "* You are counting seconds and want to know the number of minutes, but don't care about the leftover seconds\n",
    "\n",
    "* New York State requires an 85% for a specific certification, but 84.9% doesn't count\n",
    "\n",
    "For floor division, we use the `//` sign. Before running the code below, predict if you think the answer will be a float (decimal) or an integer:"
   ]
  },
  {
   "cell_type": "code",
   "execution_count": 5,
   "metadata": {
    "id": "TGVKC2fKTJ2z"
   },
   "outputs": [
    {
     "name": "stdout",
     "output_type": "stream",
     "text": [
      "8\n"
     ]
    }
   ],
   "source": [
    "number_of_doggo_treats = 25\n",
    "number_of_doggos = 3\n",
    "\n",
    "treats_per_doggo = number_of_doggo_treats // number_of_doggos\n",
    "\n",
    "print(treats_per_doggo)"
   ]
  },
  {
   "cell_type": "markdown",
   "metadata": {
    "id": "k8tOQ1kOTJ2z"
   },
   "source": [
    "### The \"`%`\" operator\n",
    "\n",
    "Not gonna lie - this one is peculiar. We call it \"*mod*\" or \"*modulo*\". This is really the remainder after division. It'd kind of like the opposite of the floor division in that it is only concerned with what's left over. For instance:\n",
    "\n",
    "* If we have 27 donuts and you can put 12 in a box, we want to know that there are 3 left over\n",
    "\n",
    "* If we divide a number by 2, then the remainder is either 0 or 1. If 0 is the remainder, the number is even. Otherwise, if the remainder is 1, then the number is odd\n",
    "\n",
    "* If we have a specific number of feet and we know there are 5280 feet in a mile, we can divine the number of miles using `//` and the number of feet left over using `%`"
   ]
  },
  {
   "cell_type": "code",
   "execution_count": 6,
   "metadata": {
    "id": "fn2BGIC-TJ20"
   },
   "outputs": [
    {
     "name": "stdout",
     "output_type": "stream",
     "text": [
      "Mt. Everest is\n",
      "29032\n",
      "tall\n",
      "\n",
      "That equates to\n",
      "5\n",
      "miles and\n",
      "2632\n",
      "feet.\n"
     ]
    }
   ],
   "source": [
    "number_of_feet = 29032\n",
    "number_of_miles = number_of_feet // 5280\n",
    "remaining_feet = number_of_feet % 5280\n",
    "\n",
    "print(\"Mt. Everest is\")\n",
    "print(number_of_feet)\n",
    "print(\"tall\")\n",
    "\n",
    "print()\n",
    "\n",
    "print(\"That equates to\")\n",
    "print(number_of_miles)\n",
    "print(\"miles and\")\n",
    "print(remaining_feet)\n",
    "print(\"feet.\")"
   ]
  },
  {
   "cell_type": "markdown",
   "metadata": {
    "id": "aVR9lxhKfUuF"
   },
   "source": [
    "Honestly, there's gotta be a better way. It SUCKS to have to print string literals on one line, the value of a variable on the next, and then more string literals. I mean, which is better?\n",
    "\n",
    "```\n",
    "Mt. Everest is\n",
    "29032\n",
    "tall\n",
    "```\n",
    "\n",
    "or\n",
    "\n",
    "```Mt. Everest is 29032 tall```\n",
    "\n",
    "Obviously the second option is preferred. Let's see how to do that!"
   ]
  },
  {
   "cell_type": "markdown",
   "metadata": {
    "id": "eWfUNoAQTJ20"
   },
   "source": [
    "## Output with String Literals and Variables"
   ]
  },
  {
   "cell_type": "markdown",
   "metadata": {
    "id": "8E5rVZgUTJ20"
   },
   "source": [
    "### `print()` using multiple arguments\n",
    "\n",
    "When you need to output string literals and variables in the same `print()` function, there are a few ways to do that. If you are super nerdy and curious, there are a few examples at the end of this document. But right now we are looking at your best option.\n",
    "\n",
    "### `f-string` *is* the best option!\n",
    "\n",
    "If we don't want to mess around with casting and minding variable types and concatenating and all that business (nasty business, really), then we can use what is known as an **f-string**. The \"f\" stands for \"formatting\" and goes in front of the string literal in the `print()` function call.\n",
    "\n",
    "Using f-strings are pretty much like using regular ole strings, except you *literally add the letter `f` before the string*. That also allows you to inject variable names right in the string! Check out the following examples:"
   ]
  },
  {
   "cell_type": "code",
   "execution_count": 7,
   "metadata": {
    "id": "axsTH0O2Y1tj"
   },
   "outputs": [
    {
     "name": "stdout",
     "output_type": "stream",
     "text": [
      "Your total is $3.75\n"
     ]
    }
   ],
   "source": [
    "amt = 3.75\n",
    "print(f'Your total is ${amt}')"
   ]
  },
  {
   "cell_type": "code",
   "execution_count": 8,
   "metadata": {
    "id": "WJ6-9MZlfUuF"
   },
   "outputs": [
    {
     "name": "stdout",
     "output_type": "stream",
     "text": [
      "Hello, nick\n"
     ]
    }
   ],
   "source": [
    "name = input('Please enter your name: ')\n",
    "print(f'Hello, {name}')"
   ]
  },
  {
   "cell_type": "code",
   "execution_count": 9,
   "metadata": {
    "id": "lffOgo5VfUuK"
   },
   "outputs": [
    {
     "name": "stdout",
     "output_type": "stream",
     "text": [
      "You rolled a 5 and a 2 for a grand total of 7.\n"
     ]
    }
   ],
   "source": [
    "die_01 = 5\n",
    "die_02 = 2\n",
    "print(f'You rolled a {die_01} and a {die_02} for a grand total of {die_01 + die_02}.')"
   ]
  },
  {
   "cell_type": "markdown",
   "metadata": {
    "id": "Y3xvCrejfUuK"
   },
   "source": [
    "#### Shortcomings of f-string\n",
    "\n",
    "There is one thing that is a little wonky with `f-string`s. And this isn't technically a limitation of `f-string`s, it's a limitation of Python (and most other programming languages, too). The issue is that trailing zeros are \"trimmed\". Consider this example:"
   ]
  },
  {
   "cell_type": "code",
   "execution_count": 10,
   "metadata": {
    "id": "JNhKH9cufUuK"
   },
   "outputs": [
    {
     "name": "stdout",
     "output_type": "stream",
     "text": [
      "Your total is $3.5\n"
     ]
    }
   ],
   "source": [
    "amt = 3.50\n",
    "print(f'Your total is ${amt}')"
   ]
  },
  {
   "cell_type": "markdown",
   "metadata": {
    "id": "sRAt1XcvZMdv"
   },
   "source": [
    "There is an issue where we get `3.5` instead of `3.50` *but* f-strings give us a way to format the string on the fly! If we want to go two decimal places, we can just add something to the call to the variable in the output:"
   ]
  },
  {
   "cell_type": "code",
   "execution_count": 11,
   "metadata": {
    "id": "T6uIWctxZi5Z"
   },
   "outputs": [
    {
     "name": "stdout",
     "output_type": "stream",
     "text": [
      "Your total is $ 3.50\n"
     ]
    }
   ],
   "source": [
    "amt = 3.50\n",
    "print(f'Your total is $ {amt:.2f}')"
   ]
  },
  {
   "cell_type": "markdown",
   "metadata": {
    "id": "5pt4uNjlZsCO"
   },
   "source": [
    "Run the code above. Then change the `2` to another number (try 4). Then change it again (try 10). See what happens.\n",
    "\n",
    "The `.2f` means to go two places in the `float` (decimal) part."
   ]
  },
  {
   "cell_type": "markdown",
   "metadata": {
    "id": "-0Ytsj8TTJ3C"
   },
   "source": [
    "This is probably the best way to control your output to your exact specification. Note that if we had multiple variables, we could still use this method:"
   ]
  },
  {
   "cell_type": "code",
   "execution_count": 12,
   "metadata": {
    "id": "I8rpA_1PTJ3C"
   },
   "outputs": [
    {
     "name": "stdout",
     "output_type": "stream",
     "text": [
      "Tax rate is 8.00%\n",
      "Your item costs $3.50, has a tax of $0.28, for a total of $3.78\n"
     ]
    }
   ],
   "source": [
    "price = 3.50\n",
    "tax_rate = 0.08\n",
    "\n",
    "tax = price * tax_rate\n",
    "\n",
    "total_price = price + tax\n",
    "\n",
    "print(f'Tax rate is {tax_rate:.2%}')\n",
    "print(f'Your item costs ${price:.2f}, has a tax of ${tax:.2f}, for a total of ${total_price:.2f}')"
   ]
  },
  {
   "cell_type": "markdown",
   "metadata": {
    "id": "JqkIRLoqTJ3D"
   },
   "source": [
    "There is another advantage to `f-strings` - they have all sorts of neat tools you can use. One of the more practical ones is the ability to take a number that is a `float` (say, `tax_rate`) and display it as a percentage on the fly!"
   ]
  },
  {
   "cell_type": "code",
   "execution_count": null,
   "metadata": {
    "id": "dg6xCKghaoTH"
   },
   "outputs": [],
   "source": [
    "tax_rate = 0.0825\n",
    "print(f'Tax rate is {tax_rate:%}')   # If you don't specify the number of decimal spots, 6 is the default\n",
    "print(f'Tax rate is {tax_rate:.3%}') # Let's specify to 3 decimal places"
   ]
  },
  {
   "cell_type": "markdown",
   "metadata": {
    "id": "4CZ1YY9iTJ3D"
   },
   "source": [
    "This concludes my TED talk. Thank you for watching.\n",
    "\n",
    "But seriously, here's how I think about formatting variables in text: I don't.\n",
    "\n",
    "I don't ever remember how to do it because I do it so infrequently. If I ever need to remember, I just look it up. All you need to remember is \"f-string\" because you can always research more specifics if you'd like.\n",
    "\n",
    "### Formatting text\n",
    "\n",
    "There are ways to format text, too, like aligning text to the middle of the output, to the right, and all sorts of other cool, fancy ways.\n",
    "\n",
    "I usually look these up when I need them, and [W3 Schools](https://www.w3schools.com/python/ref_string_format.asp) has a great piece on it. Here's something to whet your appetite, lifted directly from the W3 site:"
   ]
  },
  {
   "cell_type": "code",
   "execution_count": 13,
   "metadata": {
    "id": "1-bFqAiQTJ3D"
   },
   "outputs": [
    {
     "name": "stdout",
     "output_type": "stream",
     "text": [
      "We have    49    chickens.\n"
     ]
    }
   ],
   "source": [
    "#To demonstrate, we insert the number 8 to set the available space for the value to 8 characters.\n",
    "\n",
    "#Use \"^\" to center-align the value:\n",
    "\n",
    "txt = \"We have {:^8} chickens.\"\n",
    "print(txt.format(49))"
   ]
  },
  {
   "cell_type": "markdown",
   "metadata": {
    "id": "trhEbDwRfUuL"
   },
   "source": [
    "## Wrap Up!\n",
    "\n",
    "That's it folks! That's a quick bit of math and some output tricks. The main takeaways:\n",
    "* If you want to increase the value of a variable, reassign it using the current value!\n",
    "* Use `f-string` when mixing variables and string literals.\n",
    "* Don't waste your time learning formatting - just know it exists. We won't use it much this semester.\n",
    "\n",
    "```python\n",
    "age = 45\n",
    "print(f'Your current age is {age}.')\n",
    "age = age -1\n",
    "print(f'Last year, you were {age}.')\n",
    "```\n",
    "\n",
    "<br />\n",
    "You can also do math right in the curly brackets:\n",
    "<br /><br />\n",
    "\n",
    "```python\n",
    "age = 45\n",
    "print(f'Your current age is {age} and next year you will be {age + 1}')\n",
    "```"
   ]
  },
  {
   "cell_type": "markdown",
   "metadata": {
    "id": "oK4scJXefUuL"
   },
   "source": [
    "<br /><br /><hr /><br /><br /><br /><br /><br /><br />\n",
    "# YOU DO NOT NEED TO KNOW THE FOLLOWING\n",
    "But I won't stop you if you want to read it. But you don't have to read it. But you can if you want to.\n",
    "\n",
    "## Output with Strings and Variables\n",
    "\n",
    "For those eagle-eyed people out there, you may have noticed I was playing fast and loose with some of the `print()` calls. Sometimes I was using the `+` sign when connecting different things in a `print()` statement, and sometimes a `,`. It's time to understand the ugly truth of `print()` statements.\n",
    "\n",
    "Before you read on, you should know that the following methods are _okay_, but they each of their downsides. If you are feeling curious, then certainly read on. But if you want to see the _best_ way to output variables with text, skip ahead to the `f-string` section (directly under the poop emojis).\n",
    "\n",
    "### `print()` using one string\n",
    "\n",
    "We know that a string is really just a bunch of numbers, letters, and characters. Even if a string is only numbers, it's not a number - it's a string. When using `print()` statements, it really only prints strings. So:\n",
    "\n",
    "> `print('Hello, world!')`<br />will literally print the words `Hello, world!`. No surprise there.\n",
    "\n",
    "<br />\n",
    "\n",
    "> `age = 45`<br />\n",
    "> `print(age)`<br />will literally print `45`. Also no surprise.\n",
    "\n",
    "But check this out:\n",
    "\n",
    "> `age = 45`<br />\n",
    "> `print('Hello, world!' + age)`<br />WILL CAUSE AN ERROR!\n",
    "\n",
    "Don't believe me? Try it below!"
   ]
  },
  {
   "cell_type": "code",
   "execution_count": null,
   "metadata": {
    "id": "Z8_Vx_6ZfUuL"
   },
   "outputs": [],
   "source": [
    "age = 45\n",
    "print('Hello, world!' + age)"
   ]
  },
  {
   "cell_type": "markdown",
   "metadata": {
    "id": "Nb9Kq9ZhfUuL"
   },
   "source": [
    "The reason is because we are *concatenating* with the `+` sign. And concatenating **only** works with strings!!! So an error is thrown (in the biz, we say *throw an error* when an error surfaces - in this case, the error is `can only concatenate str (not \"int\") to str)`.\n",
    "\n",
    "This is not a huge deal, there is an easy fix. Just cast the `int` to a `str`. Go ahead and try below:"
   ]
  },
  {
   "cell_type": "code",
   "execution_count": null,
   "metadata": {
    "id": "TiE7TlxjfUuL"
   },
   "outputs": [],
   "source": [
    "age = 45\n",
    "print('Hello, world!' + age)\n",
    "# Cast the variable `age` to a `str` in the print statement"
   ]
  },
  {
   "cell_type": "markdown",
   "metadata": {
    "id": "ro4Ibj4bfUuL"
   },
   "source": [
    "<hr />\n",
    "<details>\n",
    "    <summary>Click to reveal a solution</summary>\n",
    "    <code>print('Hello, world!' + str(age))</code>\n",
    "  </details>\n",
    "<hr />"
   ]
  },
  {
   "cell_type": "markdown",
   "metadata": {
    "id": "ENEa6ckXfUuM"
   },
   "source": [
    "### Multiple *parameters* in `print` statements\n",
    "\n",
    "Sometimes you will want to output multiple things in the same `print` statement. The following code demonstrates two different ways. Yes, it's true you could use `print('YOU are awesome!')` - that would be the best solution in this case. But there will be times when we have multiple things to output so you should know how to handle it. Notice the way the spacing differs between these two methods:"
   ]
  },
  {
   "cell_type": "code",
   "execution_count": 14,
   "metadata": {
    "id": "pFlHtq3RfUuM"
   },
   "outputs": [
    {
     "name": "stdout",
     "output_type": "stream",
     "text": [
      "YOU are awesome!\n",
      "YOUareawesome!\n"
     ]
    }
   ],
   "source": [
    "print('YOU', 'are', 'awesome!')\n",
    "print('YOU' + 'are' + 'awesome!')"
   ]
  },
  {
   "cell_type": "markdown",
   "metadata": {
    "id": "WSuaTX6bfUuO"
   },
   "source": [
    "Here's a more concrete example of why you might want to know how spacing works. I know we haven't looked at *variables* yet (that's coming up in another chapter), but lemme give you a taste of what a *variable* is. A *variable* is a thing in Python that let's you store information. And, unlike variables in math class, the value can change. So in the example below, we'll have a variable called `age` and we will give it a value of `44`.\n",
    "\n",
    "Use your power of prediction to guess what happens when you execute the following code:"
   ]
  },
  {
   "cell_type": "code",
   "execution_count": null,
   "metadata": {
    "id": "DAfG1dnNfUuO"
   },
   "outputs": [],
   "source": [
    "age = 44\n",
    "print(age)"
   ]
  },
  {
   "cell_type": "markdown",
   "metadata": {
    "id": "dTRXhtDRfUuO"
   },
   "source": [
    "If you guessed that the output would be `44`, you are correct. Now let's add more to the output. This is why you need to know the difference between `+` and `,` in your `print` statements:"
   ]
  },
  {
   "cell_type": "code",
   "execution_count": null,
   "metadata": {
    "id": "YZBJwC-QfUuO"
   },
   "outputs": [],
   "source": [
    "print('You\\'re ', age)"
   ]
  },
  {
   "cell_type": "markdown",
   "metadata": {
    "id": "zSSVUCV3fUuP"
   },
   "source": [
    "Now try to change the comma to a `+` sign and see what happens. Spoiler alert: it ain't good. We'll get to **why** this is the case in another chapter; for right now, just plan on using commas. Of course, this begs the question, \"How do I **not** have a space between a string (text) and a variable that is a number?\""
   ]
  },
  {
   "cell_type": "code",
   "execution_count": null,
   "metadata": {
    "id": "GlWFZ3ENfUuP"
   },
   "outputs": [],
   "source": [
    "version = 1.210005\n",
    "print('Current version is v', version)"
   ]
  },
  {
   "cell_type": "markdown",
   "metadata": {
    "id": "ADR1iHhrfUuP"
   },
   "source": [
    "<details>\n",
    "  <summary>\n",
    "    You don't need to know the answer to this quite yet, but if you are curious, click here to reveal the code.\n",
    "   \n",
    "  </summary>\n",
    "  <p>\n",
    "    <code>version = 1.210005<br />\n",
    "    print('Current version is v%f' %version )\n",
    "    </code>\n",
    "    <br />\n",
    "    <br />\n",
    "    Yeah, I know this looks confusing. We'll go into this a bit more when we examine variables. But if it helps contextualize what is happening, the <code>f</code> stands for <code>float</code>, which is computer nerdspeak for \"decimal\". The actual output of running this code is:\n",
    "    <br />\n",
    "    <br />\n",
    "    <code>Current version is v1.210005</code>\n",
    "  </p>\n",
    "</details>\n"
   ]
  }
 ],
 "metadata": {
  "colab": {
   "provenance": []
  },
  "kernelspec": {
   "display_name": "Python 3",
   "language": "python",
   "name": "python3"
  },
  "language_info": {
   "codemirror_mode": {
    "name": "ipython",
    "version": 3
   },
   "file_extension": ".py",
   "mimetype": "text/x-python",
   "name": "python",
   "nbconvert_exporter": "python",
   "pygments_lexer": "ipython3",
   "version": "3.12.1"
  },
  "orig_nbformat": 2
 },
 "nbformat": 4,
 "nbformat_minor": 0
}
